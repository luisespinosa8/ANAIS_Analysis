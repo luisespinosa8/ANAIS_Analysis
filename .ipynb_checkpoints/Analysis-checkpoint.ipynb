{
 "cells": [
  {
   "cell_type": "code",
   "execution_count": 1,
   "id": "12d436a3",
   "metadata": {},
   "outputs": [],
   "source": [
    "from pylab import *\n",
    "from scipy import integrate\n",
    "from scipy.optimize import minimize \n",
    "from scipy import interpolate"
   ]
  },
  {
   "cell_type": "markdown",
   "id": "56aacdbf",
   "metadata": {},
   "source": [
    "# Analysis of ANAIS-112"
   ]
  },
  {
   "cell_type": "markdown",
   "id": "caf5b086",
   "metadata": {},
   "source": [
    "### Given parameters (from arXiv:2103.01175v2)\n",
    "$M = 12.5$ kg per detector, $\\Delta t = 10$ days, $\\omega = 0.01721$ rad / days, $t_0 = -62.2$ days, \n",
    "$\\Delta E$ is energy interval width and $\\phi_{bkg}(t_i)=1+fe^{-t_i/\\tau}$"
   ]
  },
  {
   "cell_type": "markdown",
   "id": "f7e2cd10",
   "metadata": {},
   "source": [
    "## Extraction of efficiency curves data"
   ]
  },
  {
   "cell_type": "code",
   "execution_count": 16,
   "id": "2c02b8bd",
   "metadata": {},
   "outputs": [],
   "source": [
    "# 50 energy points and 9 detectors\n",
    "# 2 keV start at position 10\n",
    "\n",
    "# Read data file\n",
    "effdata1_6 = []\n",
    "for i in range(9):\n",
    "    effdata1_6.append( np.loadtxt('Data/ANAIS112eff_3y_D{}.csv'.format(i), delimiter=',') )"
   ]
  },
  {
   "cell_type": "markdown",
   "id": "12d0a7de",
   "metadata": {},
   "source": [
    "### Sort data for efficiency, energy and error"
   ]
  },
  {
   "cell_type": "code",
   "execution_count": 17,
   "id": "d4912777",
   "metadata": {},
   "outputs": [],
   "source": [
    "# Sort data for 1-6 keV\n",
    "energy1_6 = np.zeros( (9, len(effdata1_6[0][:,0]) ) )\n",
    "efficiency1_6 = np.zeros( (9, len(effdata1_6[0][:,0]) ) )\n",
    "erroreff1_6 = np.zeros( (9, len(effdata1_6[0][:,0]) ) )\n",
    "\n",
    "# Separate data for each detector in 1-6 keV\n",
    "for i in range(9):\n",
    "    energy1_6[i] = effdata1_6[i][:,0]\n",
    "    efficiency1_6[i] = effdata1_6[i][:,1]\n",
    "    erroreff1_6[i] = effdata1_6[i][:,2]"
   ]
  },
  {
   "cell_type": "code",
   "execution_count": 18,
   "id": "812d5f5b",
   "metadata": {},
   "outputs": [],
   "source": [
    "# Sort data for 1-2 keV\n",
    "energy1_2 = np.zeros( (9, len(effdata1_6[0][:,0][0:10]) ) )\n",
    "efficiency1_2 = np.zeros( (9, len(effdata1_6[0][:,0][0:10]) ) )\n",
    "erroreff1_2 = np.zeros( (9, len(effdata1_6[0][:,0][0:10]) ) )\n",
    "\n",
    "# Separate data for each detector in 2-6 keV\n",
    "for i in range(9):\n",
    "    energy1_2[i] = energy1_6[i][0:10]\n",
    "    efficiency1_2[i] = efficiency1_6[i][0:10]\n",
    "    erroreff1_2[i] = erroreff1_6[i][0:10]"
   ]
  },
  {
   "cell_type": "code",
   "execution_count": 19,
   "id": "01ef4531",
   "metadata": {},
   "outputs": [],
   "source": [
    "# Sort data for 2-6 keV\n",
    "energy2_6 = np.zeros( (9, len(effdata1_6[0][:,0][10::]) ) )\n",
    "efficiency2_6 = np.zeros( (9, len(effdata1_6[0][:,0][10::]) ) )\n",
    "erroreff2_6 = np.zeros( (9, len(effdata1_6[0][:,0][10::]) ) )\n",
    "\n",
    "# Separate data for each detector in 2-6 keV\n",
    "for i in range(9):\n",
    "    energy2_6[i] = energy1_6[i][10::]\n",
    "    efficiency2_6[i] = efficiency1_6[i][10::]\n",
    "    erroreff2_6[i] = erroreff1_6[i][10::]"
   ]
  },
  {
   "cell_type": "markdown",
   "id": "388e634a",
   "metadata": {},
   "source": [
    "### Computation of efficiency weight from total area and area below curve"
   ]
  },
  {
   "cell_type": "code",
   "execution_count": 20,
   "id": "9b5080ee",
   "metadata": {},
   "outputs": [],
   "source": [
    "# Area of square 1*deltaE\n",
    "Range = 6\n",
    "Maximum_eff = 1\n",
    "area_range = Range*Maximum_eff #keV\n",
    "\n",
    "# Area below efficiency curve\n",
    "area_curve = zeros(9)\n",
    "for i in range(9):\n",
    "    area_curve[i] = integrate.simpson(efficiency1_6[i], energy1_6[i])\n",
    "\n",
    "# Efficiency weight\n",
    "epsilon = area_curve/area_range"
   ]
  },
  {
   "cell_type": "markdown",
   "id": "1af6eb87",
   "metadata": {},
   "source": [
    "## Extraction of counts data"
   ]
  },
  {
   "cell_type": "code",
   "execution_count": 21,
   "id": "81240495",
   "metadata": {},
   "outputs": [],
   "source": [
    "# 110 count points and 9 detectors\n",
    "\n",
    "# Read data file (1-6 keV)\n",
    "data1_6 = []\n",
    "for i in range(9):\n",
    "    data1_6.append( np.loadtxt('Data/ANAIS112_3y_10days_1keV_6keV_D{}.csv'.format(i), delimiter=',') )\n",
    "\n",
    "# Sort data for 1-6 keV\n",
    "day1_6 = np.zeros( (9, len(data1_6[0][:,0]) ) )\n",
    "count1_6 = np.zeros( (9, len(data1_6[0][:,0]) ) )\n",
    "errorcount1_6 = np.zeros( (9, len(data1_6[0][:,0]) ) )\n",
    "\n",
    "# Separate data for each detector in 1-6 keV\n",
    "for i in range(9):\n",
    "    day1_6[i] = data1_6[i][:,0]\n",
    "    count1_6[i] = data1_6[i][:,1]\n",
    "    errorcount1_6[i] = data1_6[i][:,2]"
   ]
  },
  {
   "cell_type": "code",
   "execution_count": 22,
   "id": "0a9008e6",
   "metadata": {},
   "outputs": [],
   "source": [
    "# Read data file (2-6 keV)\n",
    "data2_6 = []\n",
    "for i in range(9):\n",
    "    data2_6.append( np.loadtxt('Data/ANAIS112_3y_10days_2keV_6keV_D{}.csv'.format(i), delimiter=',') )\n",
    "\n",
    "# Sort data for 2-6 keV\n",
    "day2_6 = np.zeros( (9, len(data1_6[0][:,0]) ) )\n",
    "count2_6 = np.zeros( (9, len(data1_6[0][:,0]) ) )\n",
    "errorcount2_6 = np.zeros( (9, len(data1_6[0][:,0]) ) )\n",
    "\n",
    "# Separate data for each detector in 2-6 keV\n",
    "for i in range(9):\n",
    "    day2_6[i] = data2_6[i][:,0]\n",
    "    count2_6[i] = data2_6[i][:,1]\n",
    "    errorcount2_6[i] = data2_6[i][:,2]"
   ]
  },
  {
   "cell_type": "markdown",
   "id": "ae855e3b",
   "metadata": {},
   "source": [
    "## Extraction of live-time values for each bin"
   ]
  },
  {
   "cell_type": "code",
   "execution_count": 23,
   "id": "1b8da929",
   "metadata": {},
   "outputs": [],
   "source": [
    "# Live-time values (110) for each count point\n",
    "# Energy interval width from energy data of efficiency\n",
    "livetime = np.loadtxt('Data/ANAIS112liveTime_3y_10days.csv') / 10\n",
    "index = where(livetime < 0.85)"
   ]
  },
  {
   "cell_type": "markdown",
   "id": "bc45ae90",
   "metadata": {},
   "source": [
    "## Reweigh count data by efficiency and live-time"
   ]
  },
  {
   "cell_type": "code",
   "execution_count": 27,
   "id": "8edd50f4",
   "metadata": {},
   "outputs": [],
   "source": [
    "# Detector values reported\n",
    "deltaE = 5\n",
    "M = 12.5 \n",
    "\n",
    "# Select energy range 1-2 keV for counts\n",
    "day1_2 = np.zeros((9,len(data1_6[0][:,0])))\n",
    "count1_2 = np.zeros((9,len(data1_6[0][:,0])))\n",
    "errorcount1_2 = np.zeros((9,len(data1_6[0][:,0])))\n",
    "\n",
    "# Reweighting data\n",
    "for i in range(9):\n",
    "    day1_2[i] = data1_6[i][:,0]\n",
    "    count1_2[i] = np.round( (data1_6[i][:,1] - data2_6[i][:,1]) / (livetime * epsilon[i]) )\n",
    "    count1_6[i] =  np.round( data1_6[i][:,1] * M * deltaE / (livetime * epsilon[i]) )\n",
    "    errorcount1_2[i] = data1_6[i][:,2] + data2_6[i][:,2]"
   ]
  },
  {
   "cell_type": "code",
   "execution_count": 28,
   "id": "bf25aa06",
   "metadata": {},
   "outputs": [],
   "source": [
    "# Keep data with livetime below 0.85\n",
    "livetimes = np.delete(livetime, index)\n",
    "counts1_6 = zeros( (9, len(livetimes) ) )\n",
    "for i in range(0,9):\n",
    "    counts1_6[i] = np.delete(count1_6[i], index)\n",
    "days1_6 = zeros( (9,len(livetimes) ) )\n",
    "for i in range(0,9):\n",
    "    days1_6[i] = np.delete(day1_6[i], index)"
   ]
  },
  {
   "cell_type": "markdown",
   "id": "51a2fe14",
   "metadata": {},
   "source": [
    "## Computation of expectation value"
   ]
  },
  {
   "cell_type": "markdown",
   "id": "ed0fd5d5",
   "metadata": {},
   "source": [
    "### Expectation value $\\mu_i = [R_0\\phi_{bkg}(t_i)+S_m\\cos{(\\omega(t_i - t_0))}]M \\Delta E \\Delta t$"
   ]
  },
  {
   "cell_type": "code",
   "execution_count": 32,
   "id": "38706391",
   "metadata": {},
   "outputs": [],
   "source": [
    "# Fixed parameters\n",
    "omega = 0.01721\n",
    "deltaE = 5\n",
    "M = 12.5\n",
    "deltat = 10\n",
    "\n",
    "# Expectation value as function of free parameters\n",
    "def Exp_value(R0,Sm,tau,f,t0,detector):\n",
    "    ti = days1_6[detector]\n",
    "    phi = 1 + f * exp(-ti / tau)\n",
    "    mu = ( (R0 * phi) + (Sm * cos( omega * (ti - t0) )) ) * M * deltaE * deltat\n",
    "    mu_weighted = mu * (livetimes * epsilon[detector])\n",
    "    return mu_weighted"
   ]
  },
  {
   "cell_type": "markdown",
   "id": "b68c61ac",
   "metadata": {},
   "source": [
    "## Computation of likelihood"
   ]
  },
  {
   "cell_type": "markdown",
   "id": "9d87f588",
   "metadata": {},
   "source": [
    "### $L=\\prod_{det}\\prod_{i}\\frac{e^{\\mu_i}\\mu_i^{n_i}}{n_i!}$ with $n_i$ number of events in bin $i$"
   ]
  },
  {
   "cell_type": "code",
   "execution_count": 39,
   "id": "5b30d005",
   "metadata": {},
   "outputs": [],
   "source": [
    "# Likelihood with t0 fixed for all detectors (in log-form)\n",
    "def Likelihood_total(parameters):\n",
    "    t0 = -62.2\n",
    "    Sm, R0_1, tau_1, f_1, R0_2, tau_2, f_2, R0_3, tau_3, f_3, R0_4, tau_4, f_4, R0_5, tau_5, f_5, R0_6, tau_6, f_6, R0_7, tau_7, f_7, R0_8, tau_8, f_8, R0_9, tau_9, f_9 = parameters\n",
    "    R0 = array( (R0_1, R0_2, R0_3, R0_4, R0_5, R0_6, R0_7, R0_8, R0_9) )\n",
    "    tau = array( (tau_1, tau_2, tau_3, tau_4, tau_5, tau_6, tau_7, tau_8, tau_9) )\n",
    "    f = array( (f_1, f_2, f_3, f_4, f_5, f_6, f_7, f_8, f_9) )\n",
    "    L = zeros(9)\n",
    "    for i in range(0,9):\n",
    "        detector = i\n",
    "        mu = Exp_value(R0[i], Sm, tau[i], f[i], t0, detector)\n",
    "        L_d = -mu + ( counts1_6[detector] * log(mu) )  - (counts1_6[detector] * log(counts1_6[detector]) - counts1_6[detector] )\n",
    "        L[i] = sum(L_d)\n",
    "    return -2*sum(L)"
   ]
  },
  {
   "cell_type": "code",
   "execution_count": 40,
   "id": "82e09f8a",
   "metadata": {},
   "outputs": [],
   "source": [
    "# Initial guesses for free parameters\n",
    "R0_initial = 3.6\n",
    "Sm_initial = -0.0045\n",
    "tau_initial = 1034\n",
    "f_initial = 0.2"
   ]
  },
  {
   "cell_type": "markdown",
   "id": "514b0d74",
   "metadata": {},
   "source": [
    "### Maximization of likelihood"
   ]
  },
  {
   "cell_type": "code",
   "execution_count": 36,
   "id": "1788a850",
   "metadata": {
    "scrolled": true
   },
   "outputs": [
    {
     "data": {
      "text/plain": [
       "  message: CONVERGENCE: REL_REDUCTION_OF_F_<=_FACTR*EPSMCH\n",
       "  success: True\n",
       "   status: 0\n",
       "      fun: 2869.2635036668\n",
       "        x: [-5.513e-03  4.736e+00 ...  1.034e+03  5.107e-01]\n",
       "      nit: 44\n",
       "      jac: [ 2.879e-01  6.585e-02 ...  2.729e-02  1.883e-01]\n",
       "     nfev: 1421\n",
       "     njev: 49\n",
       " hess_inv: <28x28 LbfgsInvHessProduct with dtype=float64>"
      ]
     },
     "execution_count": 36,
     "metadata": {},
     "output_type": "execute_result"
    }
   ],
   "source": [
    "# Minimization of -2ln(L) (equivalent)\n",
    "minimize(Likelihood_total, (Sm_initial, R0_initial, tau_initial, f_initial, R0_initial, tau_initial, f_initial, R0_initial, tau_initial, f_initial, R0_initial, tau_initial, f_initial, R0_initial, tau_initial, f_initial, R0_initial, tau_initial, f_initial, R0_initial, tau_initial, f_initial, R0_initial, tau_initial, f_initial, R0_initial, tau_initial, f_initial), method='L-BFGS-B')"
   ]
  },
  {
   "cell_type": "markdown",
   "id": "84469114",
   "metadata": {},
   "source": [
    "## Find confidence interval for best fit"
   ]
  },
  {
   "cell_type": "markdown",
   "id": "5a4d3492",
   "metadata": {},
   "source": [
    "### Method chosen by statistic $\\Delta\\chi^2_i = -2 \\ln\\left(\\frac{L_{max, i}}{L_{max, 0}}\\right)$ with $L_{max, 0}$ the likelihood for best fit, such that $\\Delta\\chi^2=1$ gives confidence interval"
   ]
  },
  {
   "cell_type": "code",
   "execution_count": 41,
   "id": "f1af7a76",
   "metadata": {},
   "outputs": [],
   "source": [
    "# Compute the likelihood value for best fit\n",
    "output = minimize(Likelihood_total, (Sm_initial, R0_initial, tau_initial, f_initial, R0_initial, tau_initial, f_initial, R0_initial, tau_initial, f_initial, R0_initial, tau_initial, f_initial, R0_initial, tau_initial, f_initial, R0_initial, tau_initial, f_initial, R0_initial, tau_initial, f_initial, R0_initial, tau_initial, f_initial, R0_initial, tau_initial, f_initial), method='L-BFGS-B')\n",
    "best_fit_values = output['x']\n",
    "logL_max = Likelihood_total(best_fit_values)\n",
    "\n",
    "# Create range of Sm values to scan\n",
    "Sm_fit = best_fit_values[0]\n",
    "S = zeros(50)\n",
    "for i in range(0,25):\n",
    "    S[i] = Sm_fit - i/1000\n",
    "for i in range(25,50):\n",
    "    S[i] = Sm_fit + (i-24)/1000\n",
    "S = sort(S)"
   ]
  },
  {
   "cell_type": "code",
   "execution_count": 42,
   "id": "c9bbe4ee",
   "metadata": {},
   "outputs": [],
   "source": [
    "# Scan likelihood over S range (fixing it at each point) and compute chi^2\n",
    "chi_sqrd = zeros(50)\n",
    "for k in range(0,50):\n",
    "    Sm = S[k]\n",
    "    def Likelihood_uncertainty(parameters):\n",
    "        t0 = -62.2\n",
    "        R0_1, tau_1, f_1, R0_2, tau_2, f_2, R0_3, tau_3, f_3, R0_4, tau_4, f_4, R0_5, tau_5, f_5, R0_6, tau_6, f_6, R0_7, tau_7, f_7, R0_8, tau_8, f_8, R0_9, tau_9, f_9 = parameters\n",
    "        R0 = array( (R0_1, R0_2, R0_3, R0_4, R0_5, R0_6, R0_7, R0_8, R0_9) )\n",
    "        tau = array( (tau_1, tau_2, tau_3, tau_4, tau_5, tau_6, tau_7, tau_8, tau_9) )\n",
    "        f = array( (f_1, f_2, f_3, f_4, f_5, f_6, f_7, f_8, f_9) )\n",
    "        L = zeros(9)\n",
    "        for i in range(0,9):\n",
    "            detector = i\n",
    "            mu = Exp_value(R0[i], Sm, tau[i], f[i], t0, detector)\n",
    "            L_d = -mu + ( counts1_6[detector] * log(mu) ) - (counts1_6[detector] * log(counts1_6[detector]) - counts1_6[detector] )\n",
    "            L[i] = sum(L_d)\n",
    "        return (-2)*sum(L)\n",
    "    output_uncertainty = minimize(Likelihood_uncertainty, (R0_initial, tau_initial, f_initial, R0_initial, tau_initial, f_initial, R0_initial, tau_initial, f_initial, R0_initial, tau_initial, f_initial, R0_initial, tau_initial, f_initial, R0_initial, tau_initial, f_initial, R0_initial, tau_initial, f_initial, R0_initial, tau_initial, f_initial, R0_initial, tau_initial, f_initial), method='L-BFGS-B')\n",
    "    best_fit_values_uncertainty = output_uncertainty['x']\n",
    "    logL = Likelihood_uncertainty(best_fit_values_uncertainty)\n",
    "    chi_sqrd[k] = logL - logL_max"
   ]
  },
  {
   "cell_type": "code",
   "execution_count": 43,
   "id": "11a74b95",
   "metadata": {},
   "outputs": [
    {
     "name": "stdout",
     "output_type": "stream",
     "text": [
      "Best fit for Sm: -0.005513221385514619\n",
      "Lower interval: 0.004395651288815678\n",
      "Upper interval: 0.004388893504889748\n"
     ]
    }
   ],
   "source": [
    "# Find Sm value for which chi^2 is equal to one\n",
    "yToFind = 1\n",
    "yreduced = np.array(chi_sqrd) - yToFind\n",
    "freduced = interpolate.UnivariateSpline(S, yreduced, s=0)\n",
    "Sm_interval = freduced.roots()\n",
    "\n",
    "# Extracting best fit value and uncertainties\n",
    "print('Best fit for Sm:', Sm_fit)\n",
    "print('Lower interval:', Sm_fit - Sm_interval[0])\n",
    "print('Upper interval:', Sm_interval[1] - Sm_fit)"
   ]
  },
  {
   "cell_type": "markdown",
   "id": "79a0623a",
   "metadata": {},
   "source": [
    "### Best fit for amplitude is -0.0055 $\\pm$ 0.0043 cpd/kg/keV"
   ]
  },
  {
   "cell_type": "markdown",
   "id": "995b5e3a",
   "metadata": {},
   "source": [
    "## Repetition of likelihood maximization with $t_0$ released"
   ]
  },
  {
   "cell_type": "code",
   "execution_count": 45,
   "id": "ddeecfb9",
   "metadata": {},
   "outputs": [],
   "source": [
    "# Likelihood with t0 released for all detectors\n",
    "def Likelihood_totalv2(parameters):\n",
    "    Sm, t0, R0_1, tau_1, f_1, R0_2, tau_2, f_2, R0_3, tau_3, f_3, R0_4, tau_4, f_4, R0_5, tau_5, f_5, R0_6, tau_6, f_6, R0_7, tau_7, f_7, R0_8, tau_8, f_8, R0_9, tau_9, f_9 = parameters\n",
    "    R0 = array( (R0_1, R0_2, R0_3, R0_4, R0_5, R0_6, R0_7, R0_8, R0_9) )\n",
    "    tau = array( (tau_1, tau_2, tau_3, tau_4, tau_5, tau_6, tau_7, tau_8, tau_9) )\n",
    "    f = array( (f_1, f_2, f_3, f_4, f_5, f_6, f_7, f_8, f_9) )\n",
    "    L = zeros(9)\n",
    "    for i in range(0,9):\n",
    "        detector = i\n",
    "        mu = Exp_value(R0[i], Sm, tau[i], f[i], t0, detector)\n",
    "        L_d = -mu + ( counts1_6[detector] * log(mu) ) - (counts1_6[detector] * log(counts1_6[detector]) - counts1_6[detector] )\n",
    "        L[i] = sum(L_d)\n",
    "    return (-2)*sum(L)"
   ]
  },
  {
   "cell_type": "code",
   "execution_count": 46,
   "id": "02aef7f7",
   "metadata": {},
   "outputs": [],
   "source": [
    "# Initial guesses for free parameters\n",
    "R0_initial = 3.6\n",
    "Sm_initial = -0.0045\n",
    "tau_initial = 1034\n",
    "f_initial = 0.2\n",
    "t0_initial = -62.2"
   ]
  },
  {
   "cell_type": "code",
   "execution_count": 47,
   "id": "e9e5c34c",
   "metadata": {},
   "outputs": [
    {
     "data": {
      "text/plain": [
       "  message: CONVERGENCE: REL_REDUCTION_OF_F_<=_FACTR*EPSMCH\n",
       "  success: True\n",
       "   status: 0\n",
       "      fun: 2869.2635570769307\n",
       "        x: [-5.514e-03 -6.220e+01 ...  1.034e+03  5.107e-01]\n",
       "      nit: 44\n",
       "      jac: [ 2.277e-01 -9.350e-02 ...  2.838e-02  1.713e-01]\n",
       "     nfev: 1470\n",
       "     njev: 49\n",
       " hess_inv: <29x29 LbfgsInvHessProduct with dtype=float64>"
      ]
     },
     "execution_count": 47,
     "metadata": {},
     "output_type": "execute_result"
    }
   ],
   "source": [
    "# Minimization of -2ln(L)\n",
    "minimize(Likelihood_totalv2, (Sm_initial, t0_initial, R0_initial, tau_initial, f_initial, R0_initial, tau_initial, f_initial, R0_initial, tau_initial, f_initial, R0_initial, tau_initial, f_initial, R0_initial, tau_initial, f_initial, R0_initial, tau_initial, f_initial, R0_initial, tau_initial, f_initial, R0_initial, tau_initial, f_initial, R0_initial, tau_initial, f_initial), method='L-BFGS-B')"
   ]
  },
  {
   "cell_type": "markdown",
   "id": "00ebf539",
   "metadata": {},
   "source": [
    "## Repetition of confidence intervals with $t_0$  released"
   ]
  },
  {
   "cell_type": "code",
   "execution_count": 48,
   "id": "70451f96",
   "metadata": {},
   "outputs": [],
   "source": [
    "# Compute the likelihood value for best fit\n",
    "output = minimize(Likelihood_totalv2, (Sm_initial, t0_initial, R0_initial, tau_initial, f_initial, R0_initial, tau_initial, f_initial, R0_initial, tau_initial, f_initial, R0_initial, tau_initial, f_initial, R0_initial, tau_initial, f_initial, R0_initial, tau_initial, f_initial, R0_initial, tau_initial, f_initial, R0_initial, tau_initial, f_initial, R0_initial, tau_initial, f_initial), method='L-BFGS-B')\n",
    "best_fit_values = output['x']\n",
    "logL_max = Likelihood_totalv2(best_fit_values)\n",
    "\n",
    "# Create range of Sm values to scan\n",
    "Sm_fit = best_fit_values[0]\n",
    "S = zeros(11)\n",
    "for i in range(0,6):\n",
    "    S[i] = Sm_fit - i/1000\n",
    "for i in range(6,11):\n",
    "    S[i] = Sm_fit + (i-5)/1000\n",
    "S = sort(S)\n",
    "\n",
    "# Create range of t0 values to scan\n",
    "t0_fit = best_fit_values[1]\n",
    "t_0 = zeros(11)\n",
    "for i in range(0,6):\n",
    "    t_0[i] = t0_fit - i * 5\n",
    "for i in range(6,11):\n",
    "    t_0[i] = t0_fit + (i-5) * 5\n",
    "t_0 = sort(t_0)"
   ]
  },
  {
   "cell_type": "code",
   "execution_count": 49,
   "id": "c13dabbc",
   "metadata": {},
   "outputs": [],
   "source": [
    "# Scan likelihood over S and t0 ranges (fixing them at each point) and compute chi^2\n",
    "chi_sqrd = zeros((11,11))\n",
    "for k in range(0,11):\n",
    "    for j in range(0,11):\n",
    "        Sm = S[k]\n",
    "        t0 = t_0[j]\n",
    "        def Likelihood_uncertaintyv2(parameters):\n",
    "            R0_1, tau_1, f_1, R0_2, tau_2, f_2, R0_3, tau_3, f_3, R0_4, tau_4, f_4, R0_5, tau_5, f_5, R0_6, tau_6, f_6, R0_7, tau_7, f_7, R0_8, tau_8, f_8, R0_9, tau_9, f_9 = parameters\n",
    "            R0 = array( (R0_1, R0_2, R0_3, R0_4, R0_5, R0_6, R0_7, R0_8, R0_9) )\n",
    "            tau = array( (tau_1, tau_2, tau_3, tau_4, tau_5, tau_6, tau_7, tau_8, tau_9) )\n",
    "            f = array( (f_1, f_2, f_3, f_4, f_5, f_6, f_7, f_8, f_9) )\n",
    "            L = zeros(9)\n",
    "            for i in range(0,9):\n",
    "                detector = i\n",
    "                mu = Exp_value(R0[i], Sm, tau[i], f[i], t0, detector)\n",
    "                L_d = -mu + ( counts1_6[detector] * log(mu) ) - (counts1_6[detector] * log(counts1_6[detector]) - counts1_6[detector] )\n",
    "                L[i] = sum(L_d)\n",
    "            return (-2)*sum(L)\n",
    "        output_uncertainty = minimize(Likelihood_uncertaintyv2, (R0_initial, tau_initial, f_initial, R0_initial, tau_initial, f_initial, R0_initial, tau_initial, f_initial, R0_initial, tau_initial, f_initial, R0_initial, tau_initial, f_initial, R0_initial, tau_initial, f_initial, R0_initial, tau_initial, f_initial, R0_initial, tau_initial, f_initial, R0_initial, tau_initial, f_initial), method='L-BFGS-B')\n",
    "        best_fit_values_uncertainty = output_uncertainty['x']\n",
    "        logL = Likelihood_uncertaintyv2(best_fit_values_uncertainty)\n",
    "        chi_sqrd[k,j] = logL - logL_max"
   ]
  },
  {
   "cell_type": "code",
   "execution_count": 53,
   "id": "6d46fffe",
   "metadata": {},
   "outputs": [],
   "source": [
    "# Separate array in two planes for each variable\n",
    "Sm_plane = chi_sqrd[:,5]\n",
    "t0_plane = chi_sqrd[5,:] \n",
    "\n",
    "# Find Sm value for which chi^2 is equal to one\n",
    "yToFind = 1\n",
    "yreduced = np.array(Sm_plane) - yToFind\n",
    "freduced = interpolate.UnivariateSpline(S, yreduced, s=0)\n",
    "Sm_interval = freduced.roots()\n",
    "\n",
    "# Find t0 value for which chi^2 is equal to one\n",
    "yToFind = 1\n",
    "yreduced = np.array(t0_plane) - yToFind\n",
    "freduced = interpolate.UnivariateSpline(t_0, yreduced, s=0)\n",
    "t0_interval = freduced.roots()"
   ]
  },
  {
   "cell_type": "code",
   "execution_count": 56,
   "id": "418f3c72",
   "metadata": {},
   "outputs": [
    {
     "name": "stdout",
     "output_type": "stream",
     "text": [
      "Best fit for Sm: -0.005514115874251274\n",
      "Lower interval: 0.004394698395396447\n",
      "Upper interval: 0.004389873267259304\n",
      "Best fit for $t_0$: -62.20051414797706\n",
      "Lower interval: 9.908463510471051\n"
     ]
    }
   ],
   "source": [
    "# Extracting best fit value and uncertainties\n",
    "print('Best fit for Sm:', Sm_fit)\n",
    "print('Lower interval:', Sm_fit - Sm_interval[0])\n",
    "print('Upper interval:', Sm_interval[1] - Sm_fit)\n",
    "print('Best fit for $t_0$:', t0_fit)\n",
    "print('Lower interval:', t0_fit - t0_interval[0])\n",
    "#print('Upper interval:', t0_interval[1] - t0_fit) #Out of bounds"
   ]
  },
  {
   "cell_type": "markdown",
   "id": "f5043933",
   "metadata": {},
   "source": [
    "### Best fit for amplitude is -0.00551 $\\pm$ 0.00439\n",
    "### Best fit for $t_0$ is -62.2 (- 9.9)"
   ]
  },
  {
   "cell_type": "markdown",
   "id": "226e0c24",
   "metadata": {},
   "source": [
    "## Comparison plot of signal amplitudes with ANAIS-112 AND DAMA/LIBRA"
   ]
  },
  {
   "cell_type": "code",
   "execution_count": 60,
   "id": "cbdc2907",
   "metadata": {},
   "outputs": [
    {
     "data": {
      "image/png": "[encoded data removed]",
      "text/plain": [
       "<Figure size 500x500 with 1 Axes>"
      ]
     },
     "metadata": {},
     "output_type": "display_data"
    }
   ],
   "source": [
    "# Reported singal amplitudes by both experiments\n",
    "ANAIS = -0.0034\n",
    "ANAIS_error = 0.0042\n",
    "DAMA = 0.0129\n",
    "DAMA_error = 0.0016\n",
    "Us = -0.00551\n",
    "Us_error= 0.00439\n",
    "\n",
    "figure(figsize=(5, 5))\n",
    "errorbar(0, ANAIS, yerr=ANAIS_error, fmt='o', label='ANAIS-112')\n",
    "errorbar(0, DAMA, yerr=DAMA_error, fmt='o', label='DAMA/LIBRA')\n",
    "errorbar(0, Us, yerr=Us_error, fmt='o', label='This analysis')\n",
    "title('1 to 6 keV',fontsize=20)\n",
    "ylabel(r'$S_m$ [cdp/kg/keV]',fontsize=20)\n",
    "legend(fontsize=16, loc='center right')\n",
    "grid(axis='y')\n",
    "xlim(-1,3)\n",
    "yticks(fontsize=17)\n",
    "xticks(fontsize=17)\n",
    "tick_params(bottom=False,labelbottom=False)\n",
    "savefig('Modulation amplitude.pdf')"
   ]
  }
 ],
 "metadata": {
  "kernelspec": {
   "display_name": "Python 3 (ipykernel)",
   "language": "python",
   "name": "python3"
  },
  "language_info": {
   "codemirror_mode": {
    "name": "ipython",
    "version": 3
   },
   "file_extension": ".py",
   "mimetype": "text/x-python",
   "name": "python",
   "nbconvert_exporter": "python",
   "pygments_lexer": "ipython3",
   "version": "3.11.5"
  }
 },
 "nbformat": 4,
 "nbformat_minor": 5
}
